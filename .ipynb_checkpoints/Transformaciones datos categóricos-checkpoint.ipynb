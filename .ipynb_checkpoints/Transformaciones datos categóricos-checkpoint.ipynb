{
 "cells": [
  {
   "cell_type": "markdown",
   "id": "a0d61fe6-e86e-494e-87e2-fd61d57617f3",
   "metadata": {},
   "source": [
    "Sara Isabel Domínguez C. 20161005072 "
   ]
  },
  {
   "cell_type": "code",
   "execution_count": null,
   "id": "eb008d50-1110-468f-a931-1cde18d24aa9",
   "metadata": {},
   "outputs": [],
   "source": [
    "import pandas as pd"
   ]
  },
  {
   "cell_type": "code",
   "execution_count": 3,
   "id": "1e5c0339-20bf-480b-b10f-a5f3e8987ecd",
   "metadata": {},
   "outputs": [],
   "source": [
    "df = pd.read_csv('adidas.csv')"
   ]
  },
  {
   "cell_type": "code",
   "execution_count": 5,
   "id": "1c4a0ba5-1985-4a79-8191-fc734d20e306",
   "metadata": {},
   "outputs": [
    {
     "data": {
      "text/plain": [
       "(845, 20)"
      ]
     },
     "execution_count": 5,
     "metadata": {},
     "output_type": "execute_result"
    }
   ],
   "source": [
    "df.shape"
   ]
  },
  {
   "cell_type": "code",
   "execution_count": 6,
   "id": "d355e885-8916-4e40-b3d2-86a5a875031c",
   "metadata": {},
   "outputs": [
    {
     "data": {
      "text/plain": [
       "Index(['url', 'name', 'sku', 'selling_price', 'original_price', 'currency',\n",
       "       'availability', 'color', 'category', 'source', 'source_website',\n",
       "       'breadcrumbs', 'description', 'brand', 'images', 'country', 'language',\n",
       "       'average_rating', 'reviews_count', 'crawled_at'],\n",
       "      dtype='object')"
      ]
     },
     "execution_count": 6,
     "metadata": {},
     "output_type": "execute_result"
    }
   ],
   "source": [
    "df.columns"
   ]
  },
  {
   "cell_type": "code",
   "execution_count": 16,
   "id": "a1f6d41f-3d0e-4c40-aba4-88dd7e372fd3",
   "metadata": {},
   "outputs": [],
   "source": [
    "cols = ['url', 'name', 'sku','currency',\n",
    "       'availability', 'color', 'category', 'source', 'source_website',\n",
    "       'breadcrumbs', 'description', 'brand', 'images', 'country', 'language']"
   ]
  },
  {
   "cell_type": "code",
   "execution_count": 89,
   "id": "3a787f8f-ebd6-4f39-b049-f6ff3f8c2457",
   "metadata": {},
   "outputs": [
    {
     "data": {
      "text/plain": [
       "availability\n",
       "InStock         0.99645\n",
       "OutOfStock      0.00355\n",
       "dtype: float64"
      ]
     },
     "execution_count": 89,
     "metadata": {},
     "output_type": "execute_result"
    }
   ],
   "source": [
    "## Nuestro proposito será eliminar esta columna\n",
    "df.loc[ : , [\"availability\"]].value_counts() / size_df"
   ]
  },
  {
   "cell_type": "markdown",
   "id": "f4a09c85-8fd0-426f-bebb-848321eaec79",
   "metadata": {},
   "source": [
    "Según el dataset de adidas, para las columnas categóricas, encontrar -aquellas columnas que tienen mas de un nivel, y que por lo menos uno de esos niveles represente mas o igual del 98%. Para las columnas que cumplan esa premisa, eliminaran del array de columnas validas "
   ]
  },
  {
   "cell_type": "code",
   "execution_count": 83,
   "id": "d73310ae-9f30-4d9b-8715-ad28c6148055",
   "metadata": {},
   "outputs": [],
   "source": [
    "cols_valid = []\n",
    "cols_many_leves = []\n",
    "cols_one_level = []\n",
    "cols_eliminated = []\n",
    "\n",
    "size_df = df.shape[0]\n",
    "umbral = 0.98\n",
    "\n",
    "for col_ in cols:\n",
    "    \n",
    "    levels = df.loc[ : , [col_] ].drop_duplicates().shape[0]\n",
    "    \n",
    "    if len(df.groupby(col_).size()) > 1 and any(df.groupby(col_).size().apply(lambda x: x / df.shape[0]) >= umbral):\n",
    "        cols_eliminated.append(col_)    \n",
    "    elif (levels / size_df)  >= umbral:\n",
    "        cols_many_leves.append(col_)\n",
    "    elif levels == 1: \n",
    "        cols_one_level.append(col_)        \n",
    "    else:\n",
    "        cols_valid.append(col_)\n",
    "    \n",
    "    "
   ]
  },
  {
   "cell_type": "code",
   "execution_count": 84,
   "id": "2c2b5462-4315-4d4e-8cd3-6120009f5e67",
   "metadata": {},
   "outputs": [
    {
     "data": {
      "text/plain": [
       "['url', 'sku', 'images']"
      ]
     },
     "execution_count": 84,
     "metadata": {},
     "output_type": "execute_result"
    }
   ],
   "source": [
    "cols_many_leves"
   ]
  },
  {
   "cell_type": "code",
   "execution_count": 76,
   "id": "f380cb18-c71a-4fe1-872f-fb5d6356940c",
   "metadata": {},
   "outputs": [
    {
     "data": {
      "text/plain": [
       "['currency', 'source', 'source_website', 'brand', 'country', 'language']"
      ]
     },
     "execution_count": 76,
     "metadata": {},
     "output_type": "execute_result"
    }
   ],
   "source": [
    "cols_one_level"
   ]
  },
  {
   "cell_type": "code",
   "execution_count": 85,
   "id": "d83f824b-5d36-44cc-9a21-66867587b51a",
   "metadata": {},
   "outputs": [
    {
     "data": {
      "text/plain": [
       "['name', 'color', 'category', 'breadcrumbs', 'description']"
      ]
     },
     "execution_count": 85,
     "metadata": {},
     "output_type": "execute_result"
    }
   ],
   "source": [
    "cols_valid"
   ]
  },
  {
   "cell_type": "code",
   "execution_count": 87,
   "id": "2c17e712-4a2e-4402-9171-27a3abbe6b62",
   "metadata": {},
   "outputs": [
    {
     "data": {
      "text/plain": [
       "['availability']"
      ]
     },
     "execution_count": 87,
     "metadata": {},
     "output_type": "execute_result"
    }
   ],
   "source": [
    "cols_eliminated"
   ]
  },
  {
   "cell_type": "code",
   "execution_count": 90,
   "id": "e0d80f36-141f-4746-b501-b7b5baafecab",
   "metadata": {},
   "outputs": [
    {
     "data": {
      "text/html": [
       "<div>\n",
       "<style scoped>\n",
       "    .dataframe tbody tr th:only-of-type {\n",
       "        vertical-align: middle;\n",
       "    }\n",
       "\n",
       "    .dataframe tbody tr th {\n",
       "        vertical-align: top;\n",
       "    }\n",
       "\n",
       "    .dataframe thead th {\n",
       "        text-align: right;\n",
       "    }\n",
       "</style>\n",
       "<table border=\"1\" class=\"dataframe\">\n",
       "  <thead>\n",
       "    <tr style=\"text-align: right;\">\n",
       "      <th></th>\n",
       "      <th>name</th>\n",
       "      <th>color</th>\n",
       "      <th>category</th>\n",
       "      <th>breadcrumbs</th>\n",
       "      <th>description</th>\n",
       "    </tr>\n",
       "  </thead>\n",
       "  <tbody>\n",
       "    <tr>\n",
       "      <th>0</th>\n",
       "      <td>Beach Shorts</td>\n",
       "      <td>Black</td>\n",
       "      <td>Clothing</td>\n",
       "      <td>Women/Clothing</td>\n",
       "      <td>Splashing in the surf. Making memories with yo...</td>\n",
       "    </tr>\n",
       "    <tr>\n",
       "      <th>1</th>\n",
       "      <td>Five Ten Kestrel Lace Mountain Bike Shoes</td>\n",
       "      <td>Grey</td>\n",
       "      <td>Shoes</td>\n",
       "      <td>Women/Shoes</td>\n",
       "      <td>Lace up and get after it. The Five Ten Kestrel...</td>\n",
       "    </tr>\n",
       "    <tr>\n",
       "      <th>2</th>\n",
       "      <td>Mexico Away Jersey</td>\n",
       "      <td>White</td>\n",
       "      <td>Clothing</td>\n",
       "      <td>Kids/Clothing</td>\n",
       "      <td>Clean and crisp, this adidas Mexico Away Jerse...</td>\n",
       "    </tr>\n",
       "    <tr>\n",
       "      <th>3</th>\n",
       "      <td>Five Ten Hiangle Pro Competition Climbing Shoes</td>\n",
       "      <td>Black</td>\n",
       "      <td>Shoes</td>\n",
       "      <td>Five Ten/Shoes</td>\n",
       "      <td>The Hiangle Pro takes on the classic shape of ...</td>\n",
       "    </tr>\n",
       "    <tr>\n",
       "      <th>4</th>\n",
       "      <td>Mesh Broken-Stripe Polo Shirt</td>\n",
       "      <td>Blue</td>\n",
       "      <td>Clothing</td>\n",
       "      <td>Men/Clothing</td>\n",
       "      <td>Step up to the tee relaxed. This adidas golf p...</td>\n",
       "    </tr>\n",
       "    <tr>\n",
       "      <th>...</th>\n",
       "      <td>...</td>\n",
       "      <td>...</td>\n",
       "      <td>...</td>\n",
       "      <td>...</td>\n",
       "      <td>...</td>\n",
       "    </tr>\n",
       "    <tr>\n",
       "      <th>840</th>\n",
       "      <td>Supernova+ Shoes</td>\n",
       "      <td>White</td>\n",
       "      <td>Shoes</td>\n",
       "      <td>Women/Shoes</td>\n",
       "      <td>Take off. Touch down. Repeat. These adidas run...</td>\n",
       "    </tr>\n",
       "    <tr>\n",
       "      <th>841</th>\n",
       "      <td>Choigo Shoes</td>\n",
       "      <td>White</td>\n",
       "      <td>Shoes</td>\n",
       "      <td>Women/Shoes</td>\n",
       "      <td>If you want drama, the bold female track and f...</td>\n",
       "    </tr>\n",
       "    <tr>\n",
       "      <th>842</th>\n",
       "      <td>Daily 3.0 Shoes</td>\n",
       "      <td>Black</td>\n",
       "      <td>Shoes</td>\n",
       "      <td>Kids/Shoes</td>\n",
       "      <td>The style is in the details of the Daily 3.0 S...</td>\n",
       "    </tr>\n",
       "    <tr>\n",
       "      <th>843</th>\n",
       "      <td>Daily 3.0 Shoes</td>\n",
       "      <td>Pink</td>\n",
       "      <td>Shoes</td>\n",
       "      <td>Kids/Shoes</td>\n",
       "      <td>The style is in the details of the Daily 3.0 S...</td>\n",
       "    </tr>\n",
       "    <tr>\n",
       "      <th>844</th>\n",
       "      <td>Choigo Shoes</td>\n",
       "      <td>Black</td>\n",
       "      <td>Shoes</td>\n",
       "      <td>Women/Shoes</td>\n",
       "      <td>Take your style to bold new heights. Throw in ...</td>\n",
       "    </tr>\n",
       "  </tbody>\n",
       "</table>\n",
       "<p>845 rows × 5 columns</p>\n",
       "</div>"
      ],
      "text/plain": [
       "                                                name  color  category  \\\n",
       "0                                       Beach Shorts  Black  Clothing   \n",
       "1          Five Ten Kestrel Lace Mountain Bike Shoes   Grey     Shoes   \n",
       "2                                 Mexico Away Jersey  White  Clothing   \n",
       "3    Five Ten Hiangle Pro Competition Climbing Shoes  Black     Shoes   \n",
       "4                      Mesh Broken-Stripe Polo Shirt   Blue  Clothing   \n",
       "..                                               ...    ...       ...   \n",
       "840                                 Supernova+ Shoes  White     Shoes   \n",
       "841                                     Choigo Shoes  White     Shoes   \n",
       "842                                  Daily 3.0 Shoes  Black     Shoes   \n",
       "843                                  Daily 3.0 Shoes   Pink     Shoes   \n",
       "844                                     Choigo Shoes  Black     Shoes   \n",
       "\n",
       "        breadcrumbs                                        description  \n",
       "0    Women/Clothing  Splashing in the surf. Making memories with yo...  \n",
       "1       Women/Shoes  Lace up and get after it. The Five Ten Kestrel...  \n",
       "2     Kids/Clothing  Clean and crisp, this adidas Mexico Away Jerse...  \n",
       "3    Five Ten/Shoes  The Hiangle Pro takes on the classic shape of ...  \n",
       "4      Men/Clothing  Step up to the tee relaxed. This adidas golf p...  \n",
       "..              ...                                                ...  \n",
       "840     Women/Shoes  Take off. Touch down. Repeat. These adidas run...  \n",
       "841     Women/Shoes  If you want drama, the bold female track and f...  \n",
       "842      Kids/Shoes  The style is in the details of the Daily 3.0 S...  \n",
       "843      Kids/Shoes  The style is in the details of the Daily 3.0 S...  \n",
       "844     Women/Shoes  Take your style to bold new heights. Throw in ...  \n",
       "\n",
       "[845 rows x 5 columns]"
      ]
     },
     "execution_count": 90,
     "metadata": {},
     "output_type": "execute_result"
    }
   ],
   "source": [
    "df.loc[ : , cols_valid ]"
   ]
  },
  {
   "cell_type": "markdown",
   "id": "d2ebc82b-ed64-4bb2-9a8d-7a2544c6ee16",
   "metadata": {},
   "source": [
    "Según el dataset de adidas, para las columnas categóricas, encontrar aquellas columnas que tengan entre 3-6 niveles. Al nivel con la frecuencia mas baja lo vamos a remplazar por la palabra Others, una vez ya tenga esa regla aplicarla al dataset original, tal cual como se hizo con el ejercicio hecho en clases."
   ]
  },
  {
   "cell_type": "code",
   "execution_count": 98,
   "id": "c2526efe-afee-4c64-8ab2-4035f1c9cfab",
   "metadata": {},
   "outputs": [],
   "source": [
    "## Tomaré 3 columnas para analizar que cumpla con 3 - 6 niveles. "
   ]
  },
  {
   "cell_type": "code",
   "execution_count": 91,
   "id": "4c088d5c-5968-492a-8b7b-70c2e48861d9",
   "metadata": {},
   "outputs": [
    {
     "data": {
      "text/plain": [
       "category   \n",
       "Shoes          0.504142\n",
       "Clothing       0.398817\n",
       "Accessories    0.097041\n",
       "dtype: float64"
      ]
     },
     "execution_count": 91,
     "metadata": {},
     "output_type": "execute_result"
    }
   ],
   "source": [
    "df.loc[ : , [\"category\"]].value_counts() / size_df"
   ]
  },
  {
   "cell_type": "code",
   "execution_count": 96,
   "id": "a960f1c7-9803-46bb-bb6f-bad4b5ddfb2e",
   "metadata": {},
   "outputs": [
    {
     "data": {
      "text/plain": [
       "color     \n",
       "White         0.262722\n",
       "Black         0.221302\n",
       "Blue          0.123077\n",
       "Grey          0.095858\n",
       "Pink          0.073373\n",
       "Green         0.069822\n",
       "Purple        0.036686\n",
       "Red           0.029586\n",
       "Multicolor    0.023669\n",
       "Yellow        0.020118\n",
       "Orange        0.013018\n",
       "Burgundy      0.010651\n",
       "Beige         0.007101\n",
       "Multi         0.004734\n",
       "Gold          0.003550\n",
       "Turquoise     0.002367\n",
       "Silver        0.001183\n",
       "Brown         0.001183\n",
       "dtype: float64"
      ]
     },
     "execution_count": 96,
     "metadata": {},
     "output_type": "execute_result"
    }
   ],
   "source": [
    "df.loc[ : , [\"color\"]].value_counts() / size_df"
   ]
  },
  {
   "cell_type": "code",
   "execution_count": 97,
   "id": "a727db7a-4718-4d7b-9ca7-8b490d5d8d89",
   "metadata": {},
   "outputs": [
    {
     "data": {
      "text/plain": [
       "breadcrumbs          \n",
       "Women/Clothing           0.208284\n",
       "Women/Shoes              0.183432\n",
       "Men/Shoes                0.168047\n",
       "Men/Clothing             0.151479\n",
       "Kids/Shoes               0.082840\n",
       "Originals/Shoes          0.041420\n",
       "Kids/Clothing            0.035503\n",
       "Training/Accessories     0.029586\n",
       "Originals/Accessories    0.026036\n",
       "Women/Accessories        0.018935\n",
       "Men/Accessories          0.017751\n",
       "Soccer/Shoes             0.011834\n",
       "Swim/Shoes               0.008284\n",
       "Running/Shoes            0.005917\n",
       "Soccer/Accessories       0.002367\n",
       "Kids/Accessories         0.001183\n",
       "Originals/Clothing       0.001183\n",
       "Essentials/Shoes         0.001183\n",
       "Running/Accessories      0.001183\n",
       "Sportswear/Clothing      0.001183\n",
       "Five Ten/Shoes           0.001183\n",
       "Essentials/Clothing      0.001183\n",
       "dtype: float64"
      ]
     },
     "execution_count": 97,
     "metadata": {},
     "output_type": "execute_result"
    }
   ],
   "source": [
    "df.loc[ : , [\"breadcrumbs\"]].value_counts() / size_df"
   ]
  },
  {
   "cell_type": "code",
   "execution_count": 99,
   "id": "25532a48-b50d-49c7-9f76-ec3ee2a86da2",
   "metadata": {},
   "outputs": [],
   "source": [
    "## cumple con las condiciones Category."
   ]
  },
  {
   "cell_type": "code",
   "execution_count": 101,
   "id": "97dd03ac-a6a7-4ab4-adec-27db6ccfb82a",
   "metadata": {},
   "outputs": [
    {
     "data": {
      "text/plain": [
       "category   \n",
       "Shoes          0.504142\n",
       "Clothing       0.398817\n",
       "Accessories    0.097041\n",
       "dtype: float64"
      ]
     },
     "execution_count": 101,
     "metadata": {},
     "output_type": "execute_result"
    }
   ],
   "source": [
    "df.loc[ : , [\"category\"]].value_counts() / size_df\n",
    "\n",
    "## accesories es nuestro nivel con menos frecuencia."
   ]
  },
  {
   "cell_type": "code",
   "execution_count": 115,
   "id": "f6dd3343-c7f4-4acd-bd5e-2204ea88436e",
   "metadata": {},
   "outputs": [
    {
     "data": {
      "text/html": [
       "<div>\n",
       "<style scoped>\n",
       "    .dataframe tbody tr th:only-of-type {\n",
       "        vertical-align: middle;\n",
       "    }\n",
       "\n",
       "    .dataframe tbody tr th {\n",
       "        vertical-align: top;\n",
       "    }\n",
       "\n",
       "    .dataframe thead th {\n",
       "        text-align: right;\n",
       "    }\n",
       "</style>\n",
       "<table border=\"1\" class=\"dataframe\">\n",
       "  <thead>\n",
       "    <tr style=\"text-align: right;\">\n",
       "      <th></th>\n",
       "      <th>category</th>\n",
       "      <th>sku</th>\n",
       "    </tr>\n",
       "  </thead>\n",
       "  <tbody>\n",
       "    <tr>\n",
       "      <th>0</th>\n",
       "      <td>Accessories</td>\n",
       "      <td>82</td>\n",
       "    </tr>\n",
       "    <tr>\n",
       "      <th>1</th>\n",
       "      <td>Clothing</td>\n",
       "      <td>337</td>\n",
       "    </tr>\n",
       "    <tr>\n",
       "      <th>2</th>\n",
       "      <td>Shoes</td>\n",
       "      <td>426</td>\n",
       "    </tr>\n",
       "  </tbody>\n",
       "</table>\n",
       "</div>"
      ],
      "text/plain": [
       "      category  sku\n",
       "0  Accessories   82\n",
       "1     Clothing  337\n",
       "2        Shoes  426"
      ]
     },
     "execution_count": 115,
     "metadata": {},
     "output_type": "execute_result"
    }
   ],
   "source": [
    "Levels = df.groupby([\"category\"],as_index=False).agg({\"sku\": [\"count\"]})\n",
    "Levels.columns = Levels.columns.droplevel(1)\n",
    "Levels"
   ]
  },
  {
   "cell_type": "code",
   "execution_count": 132,
   "id": "01beffc6-58b4-4d7c-afa4-63bfef7fc947",
   "metadata": {},
   "outputs": [
    {
     "data": {
      "text/plain": [
       "['Accessories', 'Clothing', 'Shoes']"
      ]
     },
     "execution_count": 132,
     "metadata": {},
     "output_type": "execute_result"
    }
   ],
   "source": [
    "## Por qué con Levels no funciona pero directamente del dataframe sí?\n",
    "Levels_Frequency = Levels['category'].value_counts() < 100\n",
    "Less_frequent = list(Levels_Frequency[Levels_Frequency == True].index)\n",
    "Less_frequent"
   ]
  },
  {
   "cell_type": "code",
   "execution_count": 135,
   "id": "4fdf6d5b-9fe2-45b7-964f-346c2ec1fcb1",
   "metadata": {},
   "outputs": [
    {
     "data": {
      "text/plain": [
       "['Accessories']"
      ]
     },
     "execution_count": 135,
     "metadata": {},
     "output_type": "execute_result"
    }
   ],
   "source": [
    "Levels_Frequency = df['category'].value_counts() < 100\n",
    "Less_f = list(Levels_Frequency[Levels_Frequency == True].index)\n",
    "Less_f"
   ]
  },
  {
   "cell_type": "code",
   "execution_count": 136,
   "id": "bcd90750-0541-42f2-8145-2a36ac1f0be7",
   "metadata": {},
   "outputs": [],
   "source": [
    "Others = df.loc[df['category'].isin(Less_f), : ]['category'].replace(Less_f,'Others')\n",
    "df.category.update(Others)"
   ]
  },
  {
   "cell_type": "code",
   "execution_count": 138,
   "id": "541ee01b-a6b6-4954-b8a3-b6976554c0d8",
   "metadata": {},
   "outputs": [
    {
     "data": {
      "text/plain": [
       "category\n",
       "Shoes       426\n",
       "Clothing    337\n",
       "Others       82\n",
       "dtype: int64"
      ]
     },
     "execution_count": 138,
     "metadata": {},
     "output_type": "execute_result"
    }
   ],
   "source": [
    "df.loc[ : , [\"category\"]].value_counts()"
   ]
  },
  {
   "cell_type": "code",
   "execution_count": 137,
   "id": "e13b39be-dada-417a-9a7b-bae91f126899",
   "metadata": {},
   "outputs": [
    {
     "data": {
      "text/html": [
       "<div>\n",
       "<style scoped>\n",
       "    .dataframe tbody tr th:only-of-type {\n",
       "        vertical-align: middle;\n",
       "    }\n",
       "\n",
       "    .dataframe tbody tr th {\n",
       "        vertical-align: top;\n",
       "    }\n",
       "\n",
       "    .dataframe thead th {\n",
       "        text-align: right;\n",
       "    }\n",
       "</style>\n",
       "<table border=\"1\" class=\"dataframe\">\n",
       "  <thead>\n",
       "    <tr style=\"text-align: right;\">\n",
       "      <th></th>\n",
       "      <th>url</th>\n",
       "      <th>name</th>\n",
       "      <th>sku</th>\n",
       "      <th>selling_price</th>\n",
       "      <th>original_price</th>\n",
       "      <th>currency</th>\n",
       "      <th>availability</th>\n",
       "      <th>color</th>\n",
       "      <th>category</th>\n",
       "      <th>source</th>\n",
       "      <th>source_website</th>\n",
       "      <th>breadcrumbs</th>\n",
       "      <th>description</th>\n",
       "      <th>brand</th>\n",
       "      <th>images</th>\n",
       "      <th>country</th>\n",
       "      <th>language</th>\n",
       "      <th>average_rating</th>\n",
       "      <th>reviews_count</th>\n",
       "      <th>crawled_at</th>\n",
       "    </tr>\n",
       "  </thead>\n",
       "  <tbody>\n",
       "    <tr>\n",
       "      <th>0</th>\n",
       "      <td>https://www.adidas.com/us/beach-shorts/FJ5089....</td>\n",
       "      <td>Beach Shorts</td>\n",
       "      <td>FJ5089</td>\n",
       "      <td>40</td>\n",
       "      <td>NaN</td>\n",
       "      <td>USD</td>\n",
       "      <td>InStock</td>\n",
       "      <td>Black</td>\n",
       "      <td>Clothing</td>\n",
       "      <td>adidas United States</td>\n",
       "      <td>https://www.adidas.com</td>\n",
       "      <td>Women/Clothing</td>\n",
       "      <td>Splashing in the surf. Making memories with yo...</td>\n",
       "      <td>adidas</td>\n",
       "      <td>https://assets.adidas.com/images/w_600,f_auto,...</td>\n",
       "      <td>USA</td>\n",
       "      <td>en</td>\n",
       "      <td>4.5</td>\n",
       "      <td>35</td>\n",
       "      <td>2021-10-23 17:50:17.331255</td>\n",
       "    </tr>\n",
       "    <tr>\n",
       "      <th>1</th>\n",
       "      <td>https://www.adidas.com/us/five-ten-kestrel-lac...</td>\n",
       "      <td>Five Ten Kestrel Lace Mountain Bike Shoes</td>\n",
       "      <td>BC0770</td>\n",
       "      <td>150</td>\n",
       "      <td>NaN</td>\n",
       "      <td>USD</td>\n",
       "      <td>InStock</td>\n",
       "      <td>Grey</td>\n",
       "      <td>Shoes</td>\n",
       "      <td>adidas United States</td>\n",
       "      <td>https://www.adidas.com</td>\n",
       "      <td>Women/Shoes</td>\n",
       "      <td>Lace up and get after it. The Five Ten Kestrel...</td>\n",
       "      <td>adidas</td>\n",
       "      <td>https://assets.adidas.com/images/w_600,f_auto,...</td>\n",
       "      <td>USA</td>\n",
       "      <td>en</td>\n",
       "      <td>4.8</td>\n",
       "      <td>4</td>\n",
       "      <td>2021-10-23 17:50:17.423830</td>\n",
       "    </tr>\n",
       "    <tr>\n",
       "      <th>2</th>\n",
       "      <td>https://www.adidas.com/us/mexico-away-jersey/G...</td>\n",
       "      <td>Mexico Away Jersey</td>\n",
       "      <td>GC7946</td>\n",
       "      <td>70</td>\n",
       "      <td>NaN</td>\n",
       "      <td>USD</td>\n",
       "      <td>InStock</td>\n",
       "      <td>White</td>\n",
       "      <td>Clothing</td>\n",
       "      <td>adidas United States</td>\n",
       "      <td>https://www.adidas.com</td>\n",
       "      <td>Kids/Clothing</td>\n",
       "      <td>Clean and crisp, this adidas Mexico Away Jerse...</td>\n",
       "      <td>adidas</td>\n",
       "      <td>https://assets.adidas.com/images/w_600,f_auto,...</td>\n",
       "      <td>USA</td>\n",
       "      <td>en</td>\n",
       "      <td>4.9</td>\n",
       "      <td>42</td>\n",
       "      <td>2021-10-23 17:50:17.530834</td>\n",
       "    </tr>\n",
       "    <tr>\n",
       "      <th>3</th>\n",
       "      <td>https://www.adidas.com/us/five-ten-hiangle-pro...</td>\n",
       "      <td>Five Ten Hiangle Pro Competition Climbing Shoes</td>\n",
       "      <td>FV4744</td>\n",
       "      <td>160</td>\n",
       "      <td>NaN</td>\n",
       "      <td>USD</td>\n",
       "      <td>InStock</td>\n",
       "      <td>Black</td>\n",
       "      <td>Shoes</td>\n",
       "      <td>adidas United States</td>\n",
       "      <td>https://www.adidas.com</td>\n",
       "      <td>Five Ten/Shoes</td>\n",
       "      <td>The Hiangle Pro takes on the classic shape of ...</td>\n",
       "      <td>adidas</td>\n",
       "      <td>https://assets.adidas.com/images/w_600,f_auto,...</td>\n",
       "      <td>USA</td>\n",
       "      <td>en</td>\n",
       "      <td>3.7</td>\n",
       "      <td>7</td>\n",
       "      <td>2021-10-23 17:50:17.615054</td>\n",
       "    </tr>\n",
       "    <tr>\n",
       "      <th>4</th>\n",
       "      <td>https://www.adidas.com/us/mesh-broken-stripe-p...</td>\n",
       "      <td>Mesh Broken-Stripe Polo Shirt</td>\n",
       "      <td>GM0239</td>\n",
       "      <td>65</td>\n",
       "      <td>NaN</td>\n",
       "      <td>USD</td>\n",
       "      <td>InStock</td>\n",
       "      <td>Blue</td>\n",
       "      <td>Clothing</td>\n",
       "      <td>adidas United States</td>\n",
       "      <td>https://www.adidas.com</td>\n",
       "      <td>Men/Clothing</td>\n",
       "      <td>Step up to the tee relaxed. This adidas golf p...</td>\n",
       "      <td>adidas</td>\n",
       "      <td>https://assets.adidas.com/images/w_600,f_auto,...</td>\n",
       "      <td>USA</td>\n",
       "      <td>en</td>\n",
       "      <td>4.7</td>\n",
       "      <td>11</td>\n",
       "      <td>2021-10-23 17:50:17.702680</td>\n",
       "    </tr>\n",
       "    <tr>\n",
       "      <th>...</th>\n",
       "      <td>...</td>\n",
       "      <td>...</td>\n",
       "      <td>...</td>\n",
       "      <td>...</td>\n",
       "      <td>...</td>\n",
       "      <td>...</td>\n",
       "      <td>...</td>\n",
       "      <td>...</td>\n",
       "      <td>...</td>\n",
       "      <td>...</td>\n",
       "      <td>...</td>\n",
       "      <td>...</td>\n",
       "      <td>...</td>\n",
       "      <td>...</td>\n",
       "      <td>...</td>\n",
       "      <td>...</td>\n",
       "      <td>...</td>\n",
       "      <td>...</td>\n",
       "      <td>...</td>\n",
       "      <td>...</td>\n",
       "    </tr>\n",
       "    <tr>\n",
       "      <th>840</th>\n",
       "      <td>https://www.adidas.com/us/supernova-plus-shoes...</td>\n",
       "      <td>Supernova+ Shoes</td>\n",
       "      <td>FX2858</td>\n",
       "      <td>72</td>\n",
       "      <td>$120</td>\n",
       "      <td>USD</td>\n",
       "      <td>InStock</td>\n",
       "      <td>White</td>\n",
       "      <td>Shoes</td>\n",
       "      <td>adidas United States</td>\n",
       "      <td>https://www.adidas.com</td>\n",
       "      <td>Women/Shoes</td>\n",
       "      <td>Take off. Touch down. Repeat. These adidas run...</td>\n",
       "      <td>adidas</td>\n",
       "      <td>https://assets.adidas.com/images/w_600,f_auto,...</td>\n",
       "      <td>USA</td>\n",
       "      <td>en</td>\n",
       "      <td>4.3</td>\n",
       "      <td>151</td>\n",
       "      <td>2021-10-23 17:52:31.937924</td>\n",
       "    </tr>\n",
       "    <tr>\n",
       "      <th>841</th>\n",
       "      <td>https://www.adidas.com/us/choigo-shoes/H00667....</td>\n",
       "      <td>Choigo Shoes</td>\n",
       "      <td>H00667</td>\n",
       "      <td>70</td>\n",
       "      <td>$100</td>\n",
       "      <td>USD</td>\n",
       "      <td>InStock</td>\n",
       "      <td>White</td>\n",
       "      <td>Shoes</td>\n",
       "      <td>adidas United States</td>\n",
       "      <td>https://www.adidas.com</td>\n",
       "      <td>Women/Shoes</td>\n",
       "      <td>If you want drama, the bold female track and f...</td>\n",
       "      <td>adidas</td>\n",
       "      <td>https://assets.adidas.com/images/w_600,f_auto,...</td>\n",
       "      <td>USA</td>\n",
       "      <td>en</td>\n",
       "      <td>4.7</td>\n",
       "      <td>135</td>\n",
       "      <td>2021-10-23 17:52:32.014973</td>\n",
       "    </tr>\n",
       "    <tr>\n",
       "      <th>842</th>\n",
       "      <td>https://www.adidas.com/us/daily-3.0-shoes/GZ77...</td>\n",
       "      <td>Daily 3.0 Shoes</td>\n",
       "      <td>GZ7705</td>\n",
       "      <td>35</td>\n",
       "      <td>$50</td>\n",
       "      <td>USD</td>\n",
       "      <td>InStock</td>\n",
       "      <td>Black</td>\n",
       "      <td>Shoes</td>\n",
       "      <td>adidas United States</td>\n",
       "      <td>https://www.adidas.com</td>\n",
       "      <td>Kids/Shoes</td>\n",
       "      <td>The style is in the details of the Daily 3.0 S...</td>\n",
       "      <td>adidas</td>\n",
       "      <td>https://assets.adidas.com/images/w_600,f_auto,...</td>\n",
       "      <td>USA</td>\n",
       "      <td>en</td>\n",
       "      <td>4.7</td>\n",
       "      <td>190</td>\n",
       "      <td>2021-10-23 17:52:32.208426</td>\n",
       "    </tr>\n",
       "    <tr>\n",
       "      <th>843</th>\n",
       "      <td>https://www.adidas.com/us/daily-3.0-shoes/GZ77...</td>\n",
       "      <td>Daily 3.0 Shoes</td>\n",
       "      <td>GZ7706</td>\n",
       "      <td>40</td>\n",
       "      <td>$50</td>\n",
       "      <td>USD</td>\n",
       "      <td>InStock</td>\n",
       "      <td>Pink</td>\n",
       "      <td>Shoes</td>\n",
       "      <td>adidas United States</td>\n",
       "      <td>https://www.adidas.com</td>\n",
       "      <td>Kids/Shoes</td>\n",
       "      <td>The style is in the details of the Daily 3.0 S...</td>\n",
       "      <td>adidas</td>\n",
       "      <td>https://assets.adidas.com/images/w_600,f_auto,...</td>\n",
       "      <td>USA</td>\n",
       "      <td>en</td>\n",
       "      <td>4.7</td>\n",
       "      <td>190</td>\n",
       "      <td>2021-10-23 17:52:32.293622</td>\n",
       "    </tr>\n",
       "    <tr>\n",
       "      <th>844</th>\n",
       "      <td>https://www.adidas.com/us/choigo-shoes/FY6503....</td>\n",
       "      <td>Choigo Shoes</td>\n",
       "      <td>FY6503</td>\n",
       "      <td>70</td>\n",
       "      <td>$100</td>\n",
       "      <td>USD</td>\n",
       "      <td>InStock</td>\n",
       "      <td>Black</td>\n",
       "      <td>Shoes</td>\n",
       "      <td>adidas United States</td>\n",
       "      <td>https://www.adidas.com</td>\n",
       "      <td>Women/Shoes</td>\n",
       "      <td>Take your style to bold new heights. Throw in ...</td>\n",
       "      <td>adidas</td>\n",
       "      <td>https://assets.adidas.com/images/w_600,f_auto,...</td>\n",
       "      <td>USA</td>\n",
       "      <td>en</td>\n",
       "      <td>4.7</td>\n",
       "      <td>135</td>\n",
       "      <td>2021-10-23 17:52:32.398104</td>\n",
       "    </tr>\n",
       "  </tbody>\n",
       "</table>\n",
       "<p>845 rows × 20 columns</p>\n",
       "</div>"
      ],
      "text/plain": [
       "                                                   url  \\\n",
       "0    https://www.adidas.com/us/beach-shorts/FJ5089....   \n",
       "1    https://www.adidas.com/us/five-ten-kestrel-lac...   \n",
       "2    https://www.adidas.com/us/mexico-away-jersey/G...   \n",
       "3    https://www.adidas.com/us/five-ten-hiangle-pro...   \n",
       "4    https://www.adidas.com/us/mesh-broken-stripe-p...   \n",
       "..                                                 ...   \n",
       "840  https://www.adidas.com/us/supernova-plus-shoes...   \n",
       "841  https://www.adidas.com/us/choigo-shoes/H00667....   \n",
       "842  https://www.adidas.com/us/daily-3.0-shoes/GZ77...   \n",
       "843  https://www.adidas.com/us/daily-3.0-shoes/GZ77...   \n",
       "844  https://www.adidas.com/us/choigo-shoes/FY6503....   \n",
       "\n",
       "                                                name     sku  selling_price  \\\n",
       "0                                       Beach Shorts  FJ5089             40   \n",
       "1          Five Ten Kestrel Lace Mountain Bike Shoes  BC0770            150   \n",
       "2                                 Mexico Away Jersey  GC7946             70   \n",
       "3    Five Ten Hiangle Pro Competition Climbing Shoes  FV4744            160   \n",
       "4                      Mesh Broken-Stripe Polo Shirt  GM0239             65   \n",
       "..                                               ...     ...            ...   \n",
       "840                                 Supernova+ Shoes  FX2858             72   \n",
       "841                                     Choigo Shoes  H00667             70   \n",
       "842                                  Daily 3.0 Shoes  GZ7705             35   \n",
       "843                                  Daily 3.0 Shoes  GZ7706             40   \n",
       "844                                     Choigo Shoes  FY6503             70   \n",
       "\n",
       "    original_price currency availability  color  category  \\\n",
       "0              NaN      USD      InStock  Black  Clothing   \n",
       "1              NaN      USD      InStock   Grey     Shoes   \n",
       "2              NaN      USD      InStock  White  Clothing   \n",
       "3              NaN      USD      InStock  Black     Shoes   \n",
       "4              NaN      USD      InStock   Blue  Clothing   \n",
       "..             ...      ...          ...    ...       ...   \n",
       "840           $120      USD      InStock  White     Shoes   \n",
       "841           $100      USD      InStock  White     Shoes   \n",
       "842            $50      USD      InStock  Black     Shoes   \n",
       "843            $50      USD      InStock   Pink     Shoes   \n",
       "844           $100      USD      InStock  Black     Shoes   \n",
       "\n",
       "                   source          source_website     breadcrumbs  \\\n",
       "0    adidas United States  https://www.adidas.com  Women/Clothing   \n",
       "1    adidas United States  https://www.adidas.com     Women/Shoes   \n",
       "2    adidas United States  https://www.adidas.com   Kids/Clothing   \n",
       "3    adidas United States  https://www.adidas.com  Five Ten/Shoes   \n",
       "4    adidas United States  https://www.adidas.com    Men/Clothing   \n",
       "..                    ...                     ...             ...   \n",
       "840  adidas United States  https://www.adidas.com     Women/Shoes   \n",
       "841  adidas United States  https://www.adidas.com     Women/Shoes   \n",
       "842  adidas United States  https://www.adidas.com      Kids/Shoes   \n",
       "843  adidas United States  https://www.adidas.com      Kids/Shoes   \n",
       "844  adidas United States  https://www.adidas.com     Women/Shoes   \n",
       "\n",
       "                                           description   brand  \\\n",
       "0    Splashing in the surf. Making memories with yo...  adidas   \n",
       "1    Lace up and get after it. The Five Ten Kestrel...  adidas   \n",
       "2    Clean and crisp, this adidas Mexico Away Jerse...  adidas   \n",
       "3    The Hiangle Pro takes on the classic shape of ...  adidas   \n",
       "4    Step up to the tee relaxed. This adidas golf p...  adidas   \n",
       "..                                                 ...     ...   \n",
       "840  Take off. Touch down. Repeat. These adidas run...  adidas   \n",
       "841  If you want drama, the bold female track and f...  adidas   \n",
       "842  The style is in the details of the Daily 3.0 S...  adidas   \n",
       "843  The style is in the details of the Daily 3.0 S...  adidas   \n",
       "844  Take your style to bold new heights. Throw in ...  adidas   \n",
       "\n",
       "                                                images country language  \\\n",
       "0    https://assets.adidas.com/images/w_600,f_auto,...     USA       en   \n",
       "1    https://assets.adidas.com/images/w_600,f_auto,...     USA       en   \n",
       "2    https://assets.adidas.com/images/w_600,f_auto,...     USA       en   \n",
       "3    https://assets.adidas.com/images/w_600,f_auto,...     USA       en   \n",
       "4    https://assets.adidas.com/images/w_600,f_auto,...     USA       en   \n",
       "..                                                 ...     ...      ...   \n",
       "840  https://assets.adidas.com/images/w_600,f_auto,...     USA       en   \n",
       "841  https://assets.adidas.com/images/w_600,f_auto,...     USA       en   \n",
       "842  https://assets.adidas.com/images/w_600,f_auto,...     USA       en   \n",
       "843  https://assets.adidas.com/images/w_600,f_auto,...     USA       en   \n",
       "844  https://assets.adidas.com/images/w_600,f_auto,...     USA       en   \n",
       "\n",
       "     average_rating  reviews_count                  crawled_at  \n",
       "0               4.5             35  2021-10-23 17:50:17.331255  \n",
       "1               4.8              4  2021-10-23 17:50:17.423830  \n",
       "2               4.9             42  2021-10-23 17:50:17.530834  \n",
       "3               3.7              7  2021-10-23 17:50:17.615054  \n",
       "4               4.7             11  2021-10-23 17:50:17.702680  \n",
       "..              ...            ...                         ...  \n",
       "840             4.3            151  2021-10-23 17:52:31.937924  \n",
       "841             4.7            135  2021-10-23 17:52:32.014973  \n",
       "842             4.7            190  2021-10-23 17:52:32.208426  \n",
       "843             4.7            190  2021-10-23 17:52:32.293622  \n",
       "844             4.7            135  2021-10-23 17:52:32.398104  \n",
       "\n",
       "[845 rows x 20 columns]"
      ]
     },
     "execution_count": 137,
     "metadata": {},
     "output_type": "execute_result"
    }
   ],
   "source": [
    "df"
   ]
  },
  {
   "cell_type": "code",
   "execution_count": null,
   "id": "51c43802-3902-4a0f-a852-877b5d84bab5",
   "metadata": {},
   "outputs": [],
   "source": []
  }
 ],
 "metadata": {
  "kernelspec": {
   "display_name": "Python 3 (ipykernel)",
   "language": "python",
   "name": "python3"
  },
  "language_info": {
   "codemirror_mode": {
    "name": "ipython",
    "version": 3
   },
   "file_extension": ".py",
   "mimetype": "text/x-python",
   "name": "python",
   "nbconvert_exporter": "python",
   "pygments_lexer": "ipython3",
   "version": "3.9.7"
  }
 },
 "nbformat": 4,
 "nbformat_minor": 5
}
